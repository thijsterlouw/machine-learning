{
 "cells": [
  {
   "cell_type": "markdown",
   "metadata": {},
   "source": [
    "# Machine Learning Engineer Nanodegree\n",
    "## Introduction and Foundations\n",
    "## Project: Titanic Survival Exploration\n",
    "\n",
    "In 1912, the ship RMS Titanic struck an iceberg on its maiden voyage and sank, resulting in the deaths of most of its passengers and crew. In this introductory project, we will explore a subset of the RMS Titanic passenger manifest to determine which features best predict whether someone survived or did not survive. To complete this project, you will need to implement several conditional predictions and answer the questions below. Your project submission will be evaluated based on the completion of the code and your responses to the questions.\n",
    "> **Tip:** Quoted sections like this will provide helpful instructions on how to navigate and use an iPython notebook. "
   ]
  },
  {
   "cell_type": "markdown",
   "metadata": {},
   "source": [
    "# Getting Started\n",
    "To begin working with the RMS Titanic passenger data, we'll first need to `import` the functionality we need, and load our data into a `pandas` DataFrame.  \n",
    "Run the code cell below to load our data and display the first few entries (passengers) for examination using the `.head()` function.\n",
    "> **Tip:** You can run a code cell by clicking on the cell and using the keyboard shortcut **Shift + Enter** or **Shift + Return**. Alternatively, a code cell can be executed using the **Play** button in the hotbar after selecting it. Markdown cells (text cells like this one) can be edited by double-clicking, and saved using these same shortcuts. [Markdown](http://daringfireball.net/projects/markdown/syntax) allows you to write easy-to-read plain text that can be converted to HTML."
   ]
  },
  {
   "cell_type": "code",
   "execution_count": 2,
   "metadata": {
    "collapsed": false
   },
   "outputs": [
    {
     "data": {
      "text/html": [
       "<div>\n",
       "<table border=\"1\" class=\"dataframe\">\n",
       "  <thead>\n",
       "    <tr style=\"text-align: right;\">\n",
       "      <th></th>\n",
       "      <th>PassengerId</th>\n",
       "      <th>Survived</th>\n",
       "      <th>Pclass</th>\n",
       "      <th>Name</th>\n",
       "      <th>Sex</th>\n",
       "      <th>Age</th>\n",
       "      <th>SibSp</th>\n",
       "      <th>Parch</th>\n",
       "      <th>Ticket</th>\n",
       "      <th>Fare</th>\n",
       "      <th>Cabin</th>\n",
       "      <th>Embarked</th>\n",
       "    </tr>\n",
       "  </thead>\n",
       "  <tbody>\n",
       "    <tr>\n",
       "      <th>0</th>\n",
       "      <td>1</td>\n",
       "      <td>0</td>\n",
       "      <td>3</td>\n",
       "      <td>Braund, Mr. Owen Harris</td>\n",
       "      <td>male</td>\n",
       "      <td>22.0</td>\n",
       "      <td>1</td>\n",
       "      <td>0</td>\n",
       "      <td>A/5 21171</td>\n",
       "      <td>7.2500</td>\n",
       "      <td>NaN</td>\n",
       "      <td>S</td>\n",
       "    </tr>\n",
       "    <tr>\n",
       "      <th>1</th>\n",
       "      <td>2</td>\n",
       "      <td>1</td>\n",
       "      <td>1</td>\n",
       "      <td>Cumings, Mrs. John Bradley (Florence Briggs Th...</td>\n",
       "      <td>female</td>\n",
       "      <td>38.0</td>\n",
       "      <td>1</td>\n",
       "      <td>0</td>\n",
       "      <td>PC 17599</td>\n",
       "      <td>71.2833</td>\n",
       "      <td>C85</td>\n",
       "      <td>C</td>\n",
       "    </tr>\n",
       "    <tr>\n",
       "      <th>2</th>\n",
       "      <td>3</td>\n",
       "      <td>1</td>\n",
       "      <td>3</td>\n",
       "      <td>Heikkinen, Miss. Laina</td>\n",
       "      <td>female</td>\n",
       "      <td>26.0</td>\n",
       "      <td>0</td>\n",
       "      <td>0</td>\n",
       "      <td>STON/O2. 3101282</td>\n",
       "      <td>7.9250</td>\n",
       "      <td>NaN</td>\n",
       "      <td>S</td>\n",
       "    </tr>\n",
       "    <tr>\n",
       "      <th>3</th>\n",
       "      <td>4</td>\n",
       "      <td>1</td>\n",
       "      <td>1</td>\n",
       "      <td>Futrelle, Mrs. Jacques Heath (Lily May Peel)</td>\n",
       "      <td>female</td>\n",
       "      <td>35.0</td>\n",
       "      <td>1</td>\n",
       "      <td>0</td>\n",
       "      <td>113803</td>\n",
       "      <td>53.1000</td>\n",
       "      <td>C123</td>\n",
       "      <td>S</td>\n",
       "    </tr>\n",
       "    <tr>\n",
       "      <th>4</th>\n",
       "      <td>5</td>\n",
       "      <td>0</td>\n",
       "      <td>3</td>\n",
       "      <td>Allen, Mr. William Henry</td>\n",
       "      <td>male</td>\n",
       "      <td>35.0</td>\n",
       "      <td>0</td>\n",
       "      <td>0</td>\n",
       "      <td>373450</td>\n",
       "      <td>8.0500</td>\n",
       "      <td>NaN</td>\n",
       "      <td>S</td>\n",
       "    </tr>\n",
       "  </tbody>\n",
       "</table>\n",
       "</div>"
      ],
      "text/plain": [
       "   PassengerId  Survived  Pclass  \\\n",
       "0            1         0       3   \n",
       "1            2         1       1   \n",
       "2            3         1       3   \n",
       "3            4         1       1   \n",
       "4            5         0       3   \n",
       "\n",
       "                                                Name     Sex   Age  SibSp  \\\n",
       "0                            Braund, Mr. Owen Harris    male  22.0      1   \n",
       "1  Cumings, Mrs. John Bradley (Florence Briggs Th...  female  38.0      1   \n",
       "2                             Heikkinen, Miss. Laina  female  26.0      0   \n",
       "3       Futrelle, Mrs. Jacques Heath (Lily May Peel)  female  35.0      1   \n",
       "4                           Allen, Mr. William Henry    male  35.0      0   \n",
       "\n",
       "   Parch            Ticket     Fare Cabin Embarked  \n",
       "0      0         A/5 21171   7.2500   NaN        S  \n",
       "1      0          PC 17599  71.2833   C85        C  \n",
       "2      0  STON/O2. 3101282   7.9250   NaN        S  \n",
       "3      0            113803  53.1000  C123        S  \n",
       "4      0            373450   8.0500   NaN        S  "
      ]
     },
     "metadata": {},
     "output_type": "display_data"
    }
   ],
   "source": [
    "# Import libraries necessary for this project\n",
    "import numpy as np\n",
    "import pandas as pd\n",
    "from IPython.display import display # Allows the use of display() for DataFrames\n",
    "\n",
    "# Import supplementary visualizations code visuals.py\n",
    "import visuals as vs\n",
    "\n",
    "# Pretty display for notebooks\n",
    "%matplotlib inline\n",
    "\n",
    "# Load the dataset\n",
    "in_file = 'titanic_data.csv'\n",
    "full_data = pd.read_csv(in_file)\n",
    "\n",
    "# Print the first few entries of the RMS Titanic data\n",
    "display(full_data.head())"
   ]
  },
  {
   "cell_type": "markdown",
   "metadata": {},
   "source": [
    "From a sample of the RMS Titanic data, we can see the various features present for each passenger on the ship:\n",
    "- **Survived**: Outcome of survival (0 = No; 1 = Yes)\n",
    "- **Pclass**: Socio-economic class (1 = Upper class; 2 = Middle class; 3 = Lower class)\n",
    "- **Name**: Name of passenger\n",
    "- **Sex**: Sex of the passenger\n",
    "- **Age**: Age of the passenger (Some entries contain `NaN`)\n",
    "- **SibSp**: Number of siblings and spouses of the passenger aboard\n",
    "- **Parch**: Number of parents and children of the passenger aboard\n",
    "- **Ticket**: Ticket number of the passenger\n",
    "- **Fare**: Fare paid by the passenger\n",
    "- **Cabin** Cabin number of the passenger (Some entries contain `NaN`)\n",
    "- **Embarked**: Port of embarkation of the passenger (C = Cherbourg; Q = Queenstown; S = Southampton)\n",
    "\n",
    "Since we're interested in the outcome of survival for each passenger or crew member, we can remove the **Survived** feature from this dataset and store it as its own separate variable `outcomes`. We will use these outcomes as our prediction targets.  \n",
    "Run the code cell below to remove **Survived** as a feature of the dataset and store it in `outcomes`."
   ]
  },
  {
   "cell_type": "code",
   "execution_count": 3,
   "metadata": {
    "collapsed": false
   },
   "outputs": [
    {
     "data": {
      "text/html": [
       "<div>\n",
       "<table border=\"1\" class=\"dataframe\">\n",
       "  <thead>\n",
       "    <tr style=\"text-align: right;\">\n",
       "      <th></th>\n",
       "      <th>PassengerId</th>\n",
       "      <th>Pclass</th>\n",
       "      <th>Name</th>\n",
       "      <th>Sex</th>\n",
       "      <th>Age</th>\n",
       "      <th>SibSp</th>\n",
       "      <th>Parch</th>\n",
       "      <th>Ticket</th>\n",
       "      <th>Fare</th>\n",
       "      <th>Cabin</th>\n",
       "      <th>Embarked</th>\n",
       "    </tr>\n",
       "  </thead>\n",
       "  <tbody>\n",
       "    <tr>\n",
       "      <th>0</th>\n",
       "      <td>1</td>\n",
       "      <td>3</td>\n",
       "      <td>Braund, Mr. Owen Harris</td>\n",
       "      <td>male</td>\n",
       "      <td>22.0</td>\n",
       "      <td>1</td>\n",
       "      <td>0</td>\n",
       "      <td>A/5 21171</td>\n",
       "      <td>7.2500</td>\n",
       "      <td>NaN</td>\n",
       "      <td>S</td>\n",
       "    </tr>\n",
       "    <tr>\n",
       "      <th>1</th>\n",
       "      <td>2</td>\n",
       "      <td>1</td>\n",
       "      <td>Cumings, Mrs. John Bradley (Florence Briggs Th...</td>\n",
       "      <td>female</td>\n",
       "      <td>38.0</td>\n",
       "      <td>1</td>\n",
       "      <td>0</td>\n",
       "      <td>PC 17599</td>\n",
       "      <td>71.2833</td>\n",
       "      <td>C85</td>\n",
       "      <td>C</td>\n",
       "    </tr>\n",
       "    <tr>\n",
       "      <th>2</th>\n",
       "      <td>3</td>\n",
       "      <td>3</td>\n",
       "      <td>Heikkinen, Miss. Laina</td>\n",
       "      <td>female</td>\n",
       "      <td>26.0</td>\n",
       "      <td>0</td>\n",
       "      <td>0</td>\n",
       "      <td>STON/O2. 3101282</td>\n",
       "      <td>7.9250</td>\n",
       "      <td>NaN</td>\n",
       "      <td>S</td>\n",
       "    </tr>\n",
       "    <tr>\n",
       "      <th>3</th>\n",
       "      <td>4</td>\n",
       "      <td>1</td>\n",
       "      <td>Futrelle, Mrs. Jacques Heath (Lily May Peel)</td>\n",
       "      <td>female</td>\n",
       "      <td>35.0</td>\n",
       "      <td>1</td>\n",
       "      <td>0</td>\n",
       "      <td>113803</td>\n",
       "      <td>53.1000</td>\n",
       "      <td>C123</td>\n",
       "      <td>S</td>\n",
       "    </tr>\n",
       "    <tr>\n",
       "      <th>4</th>\n",
       "      <td>5</td>\n",
       "      <td>3</td>\n",
       "      <td>Allen, Mr. William Henry</td>\n",
       "      <td>male</td>\n",
       "      <td>35.0</td>\n",
       "      <td>0</td>\n",
       "      <td>0</td>\n",
       "      <td>373450</td>\n",
       "      <td>8.0500</td>\n",
       "      <td>NaN</td>\n",
       "      <td>S</td>\n",
       "    </tr>\n",
       "  </tbody>\n",
       "</table>\n",
       "</div>"
      ],
      "text/plain": [
       "   PassengerId  Pclass                                               Name  \\\n",
       "0            1       3                            Braund, Mr. Owen Harris   \n",
       "1            2       1  Cumings, Mrs. John Bradley (Florence Briggs Th...   \n",
       "2            3       3                             Heikkinen, Miss. Laina   \n",
       "3            4       1       Futrelle, Mrs. Jacques Heath (Lily May Peel)   \n",
       "4            5       3                           Allen, Mr. William Henry   \n",
       "\n",
       "      Sex   Age  SibSp  Parch            Ticket     Fare Cabin Embarked  \n",
       "0    male  22.0      1      0         A/5 21171   7.2500   NaN        S  \n",
       "1  female  38.0      1      0          PC 17599  71.2833   C85        C  \n",
       "2  female  26.0      0      0  STON/O2. 3101282   7.9250   NaN        S  \n",
       "3  female  35.0      1      0            113803  53.1000  C123        S  \n",
       "4    male  35.0      0      0            373450   8.0500   NaN        S  "
      ]
     },
     "metadata": {},
     "output_type": "display_data"
    }
   ],
   "source": [
    "# Store the 'Survived' feature in a new variable and remove it from the dataset\n",
    "outcomes = full_data['Survived']\n",
    "data = full_data.drop('Survived', axis = 1)\n",
    "\n",
    "# Show the new dataset with 'Survived' removed\n",
    "display(data.head())"
   ]
  },
  {
   "cell_type": "markdown",
   "metadata": {},
   "source": [
    "The very same sample of the RMS Titanic data now shows the **Survived** feature removed from the DataFrame. Note that `data` (the passenger data) and `outcomes` (the outcomes of survival) are now *paired*. That means for any passenger `data.loc[i]`, they have the survival outcome `outcomes[i]`.\n",
    "\n",
    "To measure the performance of our predictions, we need a metric to score our predictions against the true outcomes of survival. Since we are interested in how *accurate* our predictions are, we will calculate the proportion of passengers where our prediction of their survival is correct. Run the code cell below to create our `accuracy_score` function and test a prediction on the first five passengers.  \n",
    "\n",
    "**Think:** *Out of the first five passengers, if we predict that all of them survived, what would you expect the accuracy of our predictions to be?*"
   ]
  },
  {
   "cell_type": "code",
   "execution_count": 4,
   "metadata": {
    "collapsed": false
   },
   "outputs": [
    {
     "name": "stdout",
     "output_type": "stream",
     "text": [
      "Predictions have an accuracy of 60.00%.\n"
     ]
    }
   ],
   "source": [
    "def accuracy_score(truth, pred):\n",
    "    \"\"\" Returns accuracy score for input truth and predictions. \"\"\"\n",
    "    \n",
    "    # Ensure that the number of predictions matches number of outcomes\n",
    "    if len(truth) == len(pred): \n",
    "        \n",
    "        # Calculate and return the accuracy as a percent\n",
    "        return \"Predictions have an accuracy of {:.2f}%.\".format((truth == pred).mean()*100)\n",
    "    \n",
    "    else:\n",
    "        return \"Number of predictions does not match number of outcomes!\"\n",
    "    \n",
    "# Test the 'accuracy_score' function\n",
    "predictions = pd.Series(np.ones(5, dtype = int))\n",
    "print accuracy_score(outcomes[:5], predictions)"
   ]
  },
  {
   "cell_type": "markdown",
   "metadata": {},
   "source": [
    "> **Tip:** If you save an iPython Notebook, the output from running code blocks will also be saved. However, the state of your workspace will be reset once a new session is started. Make sure that you run all of the code blocks from your previous session to reestablish variables and functions before picking up where you last left off.\n",
    "\n",
    "# Making Predictions\n",
    "\n",
    "If we were asked to make a prediction about any passenger aboard the RMS Titanic whom we knew nothing about, then the best prediction we could make would be that they did not survive. This is because we can assume that a majority of the passengers (more than 50%) did not survive the ship sinking.  \n",
    "The `predictions_0` function below will always predict that a passenger did not survive."
   ]
  },
  {
   "cell_type": "code",
   "execution_count": 5,
   "metadata": {
    "collapsed": false
   },
   "outputs": [],
   "source": [
    "def predictions_0(data):\n",
    "    \"\"\" Model with no features. Always predicts a passenger did not survive. \"\"\"\n",
    "\n",
    "    predictions = []\n",
    "    for _, passenger in data.iterrows():\n",
    "        \n",
    "        # Predict the survival of 'passenger'\n",
    "        predictions.append(0)\n",
    "    \n",
    "    # Return our predictions\n",
    "    return pd.Series(predictions)\n",
    "\n",
    "# Make the predictions\n",
    "predictions = predictions_0(data)"
   ]
  },
  {
   "cell_type": "markdown",
   "metadata": {},
   "source": [
    "### Question 1\n",
    "*Using the RMS Titanic data, how accurate would a prediction be that none of the passengers survived?*  \n",
    "**Hint:** Run the code cell below to see the accuracy of this prediction."
   ]
  },
  {
   "cell_type": "code",
   "execution_count": 6,
   "metadata": {
    "collapsed": false
   },
   "outputs": [
    {
     "name": "stdout",
     "output_type": "stream",
     "text": [
      "Predictions have an accuracy of 61.62%.\n"
     ]
    }
   ],
   "source": [
    "print accuracy_score(outcomes, predictions)"
   ]
  },
  {
   "cell_type": "markdown",
   "metadata": {},
   "source": [
    "**Answer:** 61.62%"
   ]
  },
  {
   "cell_type": "markdown",
   "metadata": {},
   "source": [
    "***\n",
    "Let's take a look at whether the feature **Sex** has any indication of survival rates among passengers using the `survival_stats` function. This function is defined in the `titanic_visualizations.py` Python script included with this project. The first two parameters passed to the function are the RMS Titanic data and passenger survival outcomes, respectively. The third parameter indicates which feature we want to plot survival statistics across.  \n",
    "Run the code cell below to plot the survival outcomes of passengers based on their sex."
   ]
  },
  {
   "cell_type": "code",
   "execution_count": 7,
   "metadata": {
    "collapsed": false
   },
   "outputs": [
    {
     "data": {
      "image/png": "iVBORw0KGgoAAAANSUhEUgAAArQAAAIiCAYAAAA5AVuEAAAABHNCSVQICAgIfAhkiAAAAAlwSFlz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\nSUVORK5CYII=\n",
      "text/plain": [
       "<matplotlib.figure.Figure at 0x7fa14ba468d0>"
      ]
     },
     "metadata": {},
     "output_type": "display_data"
    }
   ],
   "source": [
    "vs.survival_stats(data, outcomes, 'Sex')"
   ]
  },
  {
   "cell_type": "markdown",
   "metadata": {},
   "source": [
    "Examining the survival statistics, a large majority of males did not survive the ship sinking. However, a majority of females *did* survive the ship sinking. Let's build on our previous prediction: If a passenger was female, then we will predict that they survived. Otherwise, we will predict the passenger did not survive.  \n",
    "Fill in the missing code below so that the function will make this prediction.  \n",
    "**Hint:** You can access the values of each feature for a passenger like a dictionary. For example, `passenger['Sex']` is the sex of the passenger."
   ]
  },
  {
   "cell_type": "code",
   "execution_count": 8,
   "metadata": {
    "collapsed": false
   },
   "outputs": [],
   "source": [
    "def predictions_1(data):\n",
    "    \"\"\" Model with one feature: \n",
    "            - Predict a passenger survived if they are female. \"\"\"\n",
    "    \n",
    "    predictions = []\n",
    "    for _, passenger in data.iterrows():\n",
    "        \n",
    "        if passenger['Sex'] == 'male':\n",
    "            predictions.append(0)\n",
    "        else:\n",
    "            predictions.append(1)\n",
    "    \n",
    "    # Return our predictions\n",
    "    return pd.Series(predictions)\n",
    "\n",
    "# Make the predictions\n",
    "predictions = predictions_1(data)"
   ]
  },
  {
   "cell_type": "markdown",
   "metadata": {},
   "source": [
    "### Question 2\n",
    "*How accurate would a prediction be that all female passengers survived and the remaining passengers did not survive?*  \n",
    "**Hint:** Run the code cell below to see the accuracy of this prediction."
   ]
  },
  {
   "cell_type": "code",
   "execution_count": 9,
   "metadata": {
    "collapsed": false
   },
   "outputs": [
    {
     "name": "stdout",
     "output_type": "stream",
     "text": [
      "Predictions have an accuracy of 78.68%.\n"
     ]
    }
   ],
   "source": [
    "print accuracy_score(outcomes, predictions)"
   ]
  },
  {
   "cell_type": "markdown",
   "metadata": {},
   "source": [
    "**Answer**: 78.68%"
   ]
  },
  {
   "cell_type": "markdown",
   "metadata": {},
   "source": [
    "***\n",
    "Using just the **Sex** feature for each passenger, we are able to increase the accuracy of our predictions by a significant margin. Now, let's consider using an additional feature to see if we can further improve our predictions. For example, consider all of the male passengers aboard the RMS Titanic: Can we find a subset of those passengers that had a higher rate of survival? Let's start by looking at the **Age** of each male, by again using the `survival_stats` function. This time, we'll use a fourth parameter to filter out the data so that only passengers with the **Sex** 'male' will be included.  \n",
    "Run the code cell below to plot the survival outcomes of male passengers based on their age."
   ]
  },
  {
   "cell_type": "code",
   "execution_count": 10,
   "metadata": {
    "collapsed": false
   },
   "outputs": [
    {
     "data": {
      "image/png": "iVBORw0KGgoAAAANSUhEUgAAAr0AAAIiCAYAAADFFHBOAAAABHNCSVQICAgIfAhkiAAAAAlwSFlz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\n",
      "text/plain": [
       "<matplotlib.figure.Figure at 0x7fa149b24390>"
      ]
     },
     "metadata": {},
     "output_type": "display_data"
    }
   ],
   "source": [
    "vs.survival_stats(data, outcomes, 'Age', [\"Sex == 'male'\"])"
   ]
  },
  {
   "cell_type": "markdown",
   "metadata": {
    "collapsed": true
   },
   "source": [
    "Examining the survival statistics, the majority of males younger than 10 survived the ship sinking, whereas most males age 10 or older *did not survive* the ship sinking. Let's continue to build on our previous prediction: If a passenger was female, then we will predict they survive. If a passenger was male and younger than 10, then we will also predict they survive. Otherwise, we will predict they do not survive.  \n",
    "Fill in the missing code below so that the function will make this prediction.  \n",
    "**Hint:** You can start your implementation of this function using the prediction code you wrote earlier from `predictions_1`."
   ]
  },
  {
   "cell_type": "code",
   "execution_count": 11,
   "metadata": {
    "collapsed": false
   },
   "outputs": [],
   "source": [
    "def predictions_2(data):\n",
    "    \"\"\" Model with two features: \n",
    "            - Predict a passenger survived if they are female.\n",
    "            - Predict a passenger survived if they are male and younger than 10. \"\"\"\n",
    "    \n",
    "    predictions = []\n",
    "    for _, passenger in data.iterrows():\n",
    "        \n",
    "        if passenger['Sex'] == 'male':\n",
    "            if passenger['Age'] < 10:\n",
    "                predictions.append(1)\n",
    "            else:\n",
    "                predictions.append(0)\n",
    "        else:\n",
    "            predictions.append(1)\n",
    "    \n",
    "    # Return our predictions\n",
    "    return pd.Series(predictions)\n",
    "\n",
    "# Make the predictions\n",
    "predictions = predictions_2(data)"
   ]
  },
  {
   "cell_type": "markdown",
   "metadata": {},
   "source": [
    "### Question 3\n",
    "*How accurate would a prediction be that all female passengers and all male passengers younger than 10 survived?*  \n",
    "**Hint:** Run the code cell below to see the accuracy of this prediction."
   ]
  },
  {
   "cell_type": "code",
   "execution_count": 12,
   "metadata": {
    "collapsed": false
   },
   "outputs": [
    {
     "name": "stdout",
     "output_type": "stream",
     "text": [
      "Predictions have an accuracy of 79.35%.\n"
     ]
    }
   ],
   "source": [
    "print accuracy_score(outcomes, predictions)"
   ]
  },
  {
   "cell_type": "markdown",
   "metadata": {},
   "source": [
    "**Answer**: 79.35%."
   ]
  },
  {
   "cell_type": "markdown",
   "metadata": {
    "collapsed": true
   },
   "source": [
    "***\n",
    "Adding the feature **Age** as a condition in conjunction with **Sex** improves the accuracy by a small margin more than with simply using the feature **Sex** alone. Now it's your turn: Find a series of features and conditions to split the data on to obtain an outcome prediction accuracy of at least 80%. This may require multiple features and multiple levels of conditional statements to succeed. You can use the same feature multiple times with different conditions.   \n",
    "**Pclass**, **Sex**, **Age**, **SibSp**, and **Parch** are some suggested features to try.\n",
    "\n",
    "Use the `survival_stats` function below to to examine various survival statistics.  \n",
    "**Hint:** To use mulitple filter conditions, put each condition in the list passed as the last argument. Example: `[\"Sex == 'male'\", \"Age < 18\"]`"
   ]
  },
  {
   "cell_type": "code",
   "execution_count": 31,
   "metadata": {
    "collapsed": false
   },
   "outputs": [
    {
     "data": {
      "image/png": "iVBORw0KGgoAAAANSUhEUgAAArQAAAIiCAYAAAA5AVuEAAAABHNCSVQICAgIfAhkiAAAAAlwSFlz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\ndE3QAgDQtf8DfrR8NmETDQEAAAAASUVORK5CYII=\n",
      "text/plain": [
       "<matplotlib.figure.Figure at 0x7fa149ccd450>"
      ]
     },
     "metadata": {},
     "output_type": "display_data"
    }
   ],
   "source": [
<<<<<<< HEAD
    "survival_stats(data, outcomes, 'Pclass', [\"Sex == 'male'\", \"Age > 10\"])"
=======
    "vs.survival_stats(data, outcomes, 'Age', [\"Sex == 'male'\", \"Age < 18\"])"
>>>>>>> 7a96cda1aa89dd03d2d82f0354b28c7c51003972
   ]
  },
  {
   "cell_type": "markdown",
   "metadata": {},
   "source": [
    "After exploring the survival statistics visualization, fill in the missing code below so that the function will make your prediction.  \n",
    "Make sure to keep track of the various features and conditions you tried before arriving at your final prediction model.  \n",
    "**Hint:** You can start your implementation of this function using the prediction code you wrote earlier from `predictions_2`."
   ]
  },
  {
   "cell_type": "code",
   "execution_count": 33,
   "metadata": {
    "collapsed": false
   },
   "outputs": [],
   "source": [
    "def predictions_3(data):\n",
    "    \"\"\" Model with multiple features. Makes a prediction with an accuracy of at least 80%. \"\"\"\n",
    "    \n",
    "    predictions = []\n",
    "    for _, passenger in data.iterrows():\n",
    "        \n",
    "        if passenger['Sex'] == 'male':\n",
    "            if passenger['Age'] < 10:\n",
    "                if passenger['Pclass'] < 3:\n",
    "                    predictions.append(1)\n",
    "                else:\n",
    "                    predictions.append(0)\n",
    "            else:\n",
    "                predictions.append(0)\n",
    "        else:\n",
    "                if passenger['SibSp'] <= 2:\n",
    "                    predictions.append(1)\n",
    "                else:\n",
    "                    predictions.append(0)\n",
    "    \n",
    "    # Return our predictions\n",
    "    return pd.Series(predictions)\n",
    "\n",
    "# Make the predictions\n",
    "predictions = predictions_3(data)"
   ]
  },
  {
   "cell_type": "markdown",
   "metadata": {},
   "source": [
    "### Question 4\n",
    "*Describe the steps you took to implement the final prediction model so that it got an accuracy of at least 80%. What features did you look at? Were certain features more informative than others? Which conditions did you use to split the survival outcomes in the data? How accurate are your predictions?*  \n",
    "**Hint:** Run the code cell below to see the accuracy of your predictions."
   ]
  },
  {
   "cell_type": "code",
   "execution_count": 34,
   "metadata": {
    "collapsed": false
   },
   "outputs": [
    {
     "name": "stdout",
     "output_type": "stream",
     "text": [
      "Predictions have an accuracy of 80.92%.\n"
     ]
    }
   ],
   "source": [
    "print accuracy_score(outcomes, predictions)"
   ]
  },
  {
   "cell_type": "markdown",
   "metadata": {},
   "source": [
    "**Answer**: 80.92%."
   ]
  },
  {
   "cell_type": "markdown",
   "metadata": {},
   "source": [
    "# Conclusion\n",
    "\n",
    "After several iterations of exploring and conditioning on the data, you have built a useful algorithm for predicting the survival of each passenger aboard the RMS Titanic. The technique applied in this project is a manual implementation of a simple machine learning model, the *decision tree*. A decision tree splits a set of data into smaller and smaller groups (called *nodes*), by one feature at a time. Each time a subset of the data is split, our predictions become more accurate if each of the resulting subgroups are more homogeneous (contain similar labels) than before. The advantage of having a computer do things for us is that it will be more exhaustive and more precise than our manual exploration above. [This link](http://www.r2d3.us/visual-intro-to-machine-learning-part-1/) provides another introduction into machine learning using a decision tree.\n",
    "\n",
    "A decision tree is just one of many models that come from *supervised learning*. In supervised learning, we attempt to use features of the data to predict or model things with objective outcome labels. That is to say, each of our data points has a known outcome value, such as a categorical, discrete label like `'Survived'`, or a numerical, continuous value like predicting the price of a house.\n",
    "\n",
    "### Question 5\n",
    "*Think of a real-world scenario where supervised learning could be applied. What would be the outcome variable that you are trying to predict? Name two features about the data used in this scenario that might be helpful for making the predictions.*  "
   ]
  },
  {
   "cell_type": "markdown",
   "metadata": {
    "collapsed": true
   },
   "source": [
    "**Answer**: Predict how busy it is at an amusement park. Outcome: business. Features: weather, date (holidays, weekend), indoor/outdoor"
   ]
  },
  {
   "cell_type": "markdown",
   "metadata": {},
   "source": [
    "> **Note**: Once you have completed all of the code implementations and successfully answered each question above, you may finalize your work by exporting the iPython Notebook as an HTML document. You can do this by using the menu above and navigating to  \n",
    "**File -> Download as -> HTML (.html)**. Include the finished document along with this notebook as your submission."
   ]
  }
 ],
 "metadata": {
  "kernelspec": {
   "display_name": "Python 2",
   "language": "python",
   "name": "python2"
  },
  "language_info": {
   "codemirror_mode": {
    "name": "ipython",
    "version": 2
   },
   "file_extension": ".py",
   "mimetype": "text/x-python",
   "name": "python",
   "nbconvert_exporter": "python",
   "pygments_lexer": "ipython2",
   "version": "2.7.12"
  }
 },
 "nbformat": 4,
 "nbformat_minor": 0
}
